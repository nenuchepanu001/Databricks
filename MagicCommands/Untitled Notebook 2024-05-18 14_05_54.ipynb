{
 "cells": [
  {
   "cell_type": "markdown",
   "metadata": {
    "application/vnd.databricks.v1+cell": {
     "cellMetadata": {},
     "inputWidgets": {},
     "nuid": "5ffe5450-1a2a-4633-9f4f-3bf8aee157bd",
     "showTitle": false,
     "title": ""
    }
   },
   "source": [
    "# Heading1\n",
    "## Heading2"
   ]
  },
  {
   "cell_type": "code",
   "execution_count": 0,
   "metadata": {
    "application/vnd.databricks.v1+cell": {
     "cellMetadata": {
      "byteLimit": 2048000,
      "rowLimit": 10000
     },
     "inputWidgets": {},
     "nuid": "d905ff77-0aae-43ed-aae7-36cf9632b626",
     "showTitle": false,
     "title": ""
    }
   },
   "outputs": [],
   "source": [
    "# comment"
   ]
  },
  {
   "cell_type": "markdown",
   "metadata": {
    "application/vnd.databricks.v1+cell": {
     "cellMetadata": {},
     "inputWidgets": {},
     "nuid": "bbb21608-e46b-4f2f-a87d-c8251a2a8d1f",
     "showTitle": false,
     "title": ""
    }
   },
   "source": [
    "\n",
    "1. Html Style <b>bold </b>\n",
    "2. Asterick Style **Bold**"
   ]
  },
  {
   "cell_type": "markdown",
   "metadata": {
    "application/vnd.databricks.v1+cell": {
     "cellMetadata": {
      "byteLimit": 2048000,
      "rowLimit": 10000
     },
     "inputWidgets": {},
     "nuid": "46f64385-3afd-45e5-bde9-6d51fb1736b8",
     "showTitle": false,
     "title": ""
    }
   },
   "source": [
    "*Italic*"
   ]
  },
  {
   "cell_type": "markdown",
   "metadata": {
    "application/vnd.databricks.v1+cell": {
     "cellMetadata": {},
     "inputWidgets": {},
     "nuid": "2ac5c6b5-516e-4c7b-ac6f-8288682200c8",
     "showTitle": false,
     "title": ""
    }
   },
   "source": [
    "`print(df)` is statement to print something\n",
    "\n",
    "``` this is multiline\n",
    "code```"
   ]
  },
  {
   "cell_type": "markdown",
   "metadata": {
    "application/vnd.databricks.v1+cell": {
     "cellMetadata": {},
     "inputWidgets": {},
     "nuid": "d310025c-3acd-48bd-930b-30976096477d",
     "showTitle": false,
     "title": ""
    }
   },
   "source": [
    "\n",
    "- one\n",
    "- two\n",
    "- three"
   ]
  },
  {
   "cell_type": "markdown",
   "metadata": {
    "application/vnd.databricks.v1+cell": {
     "cellMetadata": {
      "byteLimit": 2048000,
      "rowLimit": 10000
     },
     "inputWidgets": {},
     "nuid": "909966c9-fd06-4a43-b1cf-dad7a78e0182",
     "showTitle": false,
     "title": ""
    }
   },
   "source": [
    "#Th highlight something\n",
    "\n",
    "<span style=\"background-color:#FFF00\">Highlight</span>"
   ]
  },
  {
   "cell_type": "markdown",
   "metadata": {
    "application/vnd.databricks.v1+cell": {
     "cellMetadata": {},
     "inputWidgets": {},
     "nuid": "24712768-6741-4fe1-8367-ef68be077f41",
     "showTitle": false,
     "title": ""
    }
   },
   "source": [
    "![pic](data:image/jpeg;base64,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)"
   ]
  },
  {
   "cell_type": "markdown",
   "metadata": {
    "application/vnd.databricks.v1+cell": {
     "cellMetadata": {
      "byteLimit": 2048000,
      "rowLimit": 10000
     },
     "inputWidgets": {},
     "nuid": "59701cc0-78f7-47c3-8166-e6524f42aee0",
     "showTitle": false,
     "title": ""
    }
   },
   "source": [
    "[pic](data:image/jpeg;base64,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)"
   ]
  },
  {
   "cell_type": "code",
   "execution_count": 0,
   "metadata": {
    "application/vnd.databricks.v1+cell": {
     "cellMetadata": {
      "byteLimit": 2048000,
      "rowLimit": 10000
     },
     "inputWidgets": {},
     "nuid": "26042996-8f35-40fb-b9cf-c86d39016e13",
     "showTitle": false,
     "title": ""
    }
   },
   "outputs": [
    {
     "output_type": "display_data",
     "data": {
      "text/html": [
       "\n",
       "            <div>\n",
       "                <p><b>SparkSession - hive</b></p>\n",
       "                \n",
       "        <div>\n",
       "            <p><b>SparkContext</b></p>\n",
       "\n",
       "            <p><a href=\"/?o=2010656249011685#setting/sparkui/0612-050046-je1x15vv/driver-2073023528769311380\">Spark UI</a></p>\n",
       "\n",
       "            <dl>\n",
       "              <dt>Version</dt>\n",
       "                <dd><code>v3.3.2</code></dd>\n",
       "              <dt>Master</dt>\n",
       "                <dd><code>local[8]</code></dd>\n",
       "              <dt>AppName</dt>\n",
       "                <dd><code>Databricks Shell</code></dd>\n",
       "            </dl>\n",
       "        </div>\n",
       "        \n",
       "            </div>\n",
       "        "
      ]
     },
     "metadata": {
      "application/vnd.databricks.v1+output": {
       "addedWidgets": {},
       "arguments": {},
       "data": "\n            <div>\n                <p><b>SparkSession - hive</b></p>\n                \n        <div>\n            <p><b>SparkContext</b></p>\n\n            <p><a href=\"/?o=2010656249011685#setting/sparkui/0612-050046-je1x15vv/driver-2073023528769311380\">Spark UI</a></p>\n\n            <dl>\n              <dt>Version</dt>\n                <dd><code>v3.3.2</code></dd>\n              <dt>Master</dt>\n                <dd><code>local[8]</code></dd>\n              <dt>AppName</dt>\n                <dd><code>Databricks Shell</code></dd>\n            </dl>\n        </div>\n        \n            </div>\n        ",
       "datasetInfos": [],
       "metadata": {},
       "removedWidgets": [],
       "textData": null,
       "type": "htmlSandbox"
      }
     },
     "output_type": "display_data"
    }
   ],
   "source": [
    "spark"
   ]
  },
  {
   "cell_type": "code",
   "execution_count": 0,
   "metadata": {
    "application/vnd.databricks.v1+cell": {
     "cellMetadata": {},
     "inputWidgets": {},
     "nuid": "091a8976-135c-4a1b-b23a-b32c06cfcd38",
     "showTitle": false,
     "title": ""
    }
   },
   "outputs": [],
   "source": [
    "from pyspark.sql import *\n",
    "\n",
    "spark = SparkSession.b"
   ]
  }
 ],
 "metadata": {
  "application/vnd.databricks.v1+notebook": {
   "dashboards": [],
   "environmentMetadata": null,
   "language": "python",
   "notebookMetadata": {
    "pythonIndentUnit": 4
   },
   "notebookName": "Untitled Notebook 2024-05-18 14:05:54",
   "widgets": {}
  }
 },
 "nbformat": 4,
 "nbformat_minor": 0
}
